{
 "cells": [
  {
   "cell_type": "markdown",
   "metadata": {},
   "source": [
    "# Assignment 03"
   ]
  },
  {
   "cell_type": "code",
   "execution_count": 1,
   "metadata": {},
   "outputs": [],
   "source": [
    "%matplotlib inline"
   ]
  },
  {
   "cell_type": "code",
   "execution_count": 2,
   "metadata": {},
   "outputs": [
    {
     "name": "stderr",
     "output_type": "stream",
     "text": [
      "[nltk_data] Downloading package stopwords to\n",
      "[nltk_data]     C:\\Users\\harsh\\AppData\\Roaming\\nltk_data...\n",
      "[nltk_data]   Package stopwords is already up-to-date!\n"
     ]
    }
   ],
   "source": [
    "from Data import Data\n",
    "from NBC import Model, average_accuracy\n",
    "from Vocabulary import Vocabulary\n",
    "import pandas as pd\n",
    "import matplotlib.pyplot as plt"
   ]
  },
  {
   "cell_type": "markdown",
   "metadata": {},
   "source": [
    "Reading the vocabulary file included with the data folder.\n",
    "<br>\n",
    "See [Vocabulary.py](Vocabulary.py)"
   ]
  },
  {
   "cell_type": "code",
   "execution_count": 3,
   "metadata": {},
   "outputs": [],
   "source": [
    "vocab = Vocabulary(r'aclImdb\\\\imdb.vocab')"
   ]
  },
  {
   "cell_type": "code",
   "execution_count": 4,
   "metadata": {},
   "outputs": [
    {
     "name": "stdout",
     "output_type": "stream",
     "text": [
      "Stopwords: {'because', 'haven', 'than', 'll', 'needn', 'in', 'her', 'into', 'hers', \"doesn't\", \"you're\", 'off', 'wouldn', 'were', 'ours', 'wasn', 'here', \"don't\", 'as', 'where', \"should've\", 'then', 'our', 'himself', 'no', 'through', 'just', 'having', 'up', 'each', 'd', 'i', 'don', 'should', 'does', 'so', \"you've\", 'o', 'had', 'own', 'that', \"won't\", \"shan't\", 'more', \"wasn't\", 'from', 'didn', 'down', 'to', 'out', 'while', \"mightn't\", 'hadn', 'other', 'is', 'been', 'most', 'did', 'yours', 'yourself', 'm', 'now', 'doing', \"shouldn't\", 'isn', 'after', 'ain', 'shouldn', 'any', 'again', 'theirs', 'itself', 'a', 'be', 'ma', 'are', 'has', 'few', 'me', 'same', 've', 'against', 'too', 'my', 'which', 'or', 'it', 'only', \"didn't\", 'but', 'ourselves', \"that'll\", 'during', 'how', 'not', 'whom', 'yourselves', \"hadn't\", 'who', 'at', 'some', 'for', 's', 'this', 'he', 'by', 'about', 'both', 'do', 't', 'before', 'above', 'once', 'when', 'will', \"isn't\", 'if', 'mightn', 'all', 'have', 'with', 'herself', 'we', 'what', \"you'd\", 'nor', 'hasn', 'them', 'an', 'they', 'over', 'on', 'him', 'doesn', 'was', \"wouldn't\", \"needn't\", 'themselves', 'their', 'can', 'until', 'further', 'am', 'these', \"haven't\", 're', 'your', \"aren't\", 'those', 'between', 'shan', 'myself', 'weren', \"she's\", \"couldn't\", 'couldn', 'under', 'there', 'its', 'such', 'aren', 'his', \"you'll\", 'being', \"hasn't\", 'of', 'you', 'the', 'below', 'why', 'and', 'she', 'very', \"mustn't\", 'won', 'y', 'mustn', \"it's\", \"weren't\"}\n"
     ]
    }
   ],
   "source": [
    "print(f'Stopwords: {vocab.stopwords}')"
   ]
  },
  {
   "cell_type": "markdown",
   "metadata": {},
   "source": [
    "Reading the [train](aclImdb/train/labeledBow.feat) reviews file using 5 fold cross-validation.\n",
    "\n",
    "See [Data.py](Data.py) and [Reviews.py](Reviews.py)"
   ]
  },
  {
   "cell_type": "code",
   "execution_count": 5,
   "metadata": {},
   "outputs": [],
   "source": [
    "k = 5\n",
    "data_sets = list(Data.read_train('aclImdb', k))"
   ]
  },
  {
   "cell_type": "markdown",
   "metadata": {},
   "source": [
    "Creating NBC models for each of the data set that was produced by 5 fold cross-validation.\n",
    "<br>\n",
    "See [NBC.py](NBC.py)"
   ]
  },
  {
   "cell_type": "code",
   "execution_count": 6,
   "metadata": {},
   "outputs": [],
   "source": [
    "models = [Model(x.train, vocab) for x in data_sets]"
   ]
  },
  {
   "cell_type": "code",
   "execution_count": 7,
   "metadata": {},
   "outputs": [],
   "source": [
    "reviews = data_sets[0].all_train\n",
    "index_the = vocab.get_index('the')"
   ]
  },
  {
   "cell_type": "markdown",
   "metadata": {},
   "source": [
    "Calculating $P[“the”]$ = num of documents containing ‘the’ / num of all documents"
   ]
  },
  {
   "cell_type": "code",
   "execution_count": 8,
   "metadata": {},
   "outputs": [
    {
     "name": "stdout",
     "output_type": "stream",
     "text": [
      "P[\"the\"] = 0.99168\n"
     ]
    }
   ],
   "source": [
    "print(f'P[\"the\"] = {reviews.count(index_the) / len(reviews.all)}')"
   ]
  },
  {
   "cell_type": "markdown",
   "metadata": {},
   "source": [
    "Calculating $P[“the” | Positive]$ = # of positive documents containing “the” / num of all positive review documents"
   ]
  },
  {
   "cell_type": "code",
   "execution_count": 9,
   "metadata": {},
   "outputs": [
    {
     "name": "stdout",
     "output_type": "stream",
     "text": [
      "P[\"the\" | Positive] = 0.99048\n"
     ]
    }
   ],
   "source": [
    "print(f'P[\"the\" | Positive] = {reviews.count_positive(index_the) / len(reviews.positive)}')"
   ]
  },
  {
   "cell_type": "markdown",
   "metadata": {},
   "source": [
    "Calculating the average accuracy of these models without any smoothing and ignoring stop words only."
   ]
  },
  {
   "cell_type": "code",
   "execution_count": 10,
   "metadata": {},
   "outputs": [
    {
     "name": "stdout",
     "output_type": "stream",
     "text": [
      "Average accuracy = 74.7840%\n"
     ]
    }
   ],
   "source": [
    "dev_data = [x.dev for x in data_sets]\n",
    "accuracy = average_accuracy(models, dev_data, smoothen=0, min_occurrence=0)\n",
    "print(f'Average accuracy = {accuracy:.4%}')"
   ]
  },
  {
   "cell_type": "markdown",
   "metadata": {},
   "source": [
    "Calculating the accuracy using smoothing hyperparameters in the range $[0, 1]$ with step size $0.1$"
   ]
  },
  {
   "cell_type": "code",
   "execution_count": 11,
   "metadata": {},
   "outputs": [],
   "source": [
    "h_params = {}\n",
    "for i in (x * 0.1 for x in range(0, 11)):\n",
    "    h_params[i] = average_accuracy(models, dev_data, i, 0)\n",
    "smoothing_accuracies = pd.DataFrame.from_dict(h_params, orient='index', columns=['Accuracy'])"
   ]
  },
  {
   "cell_type": "code",
   "execution_count": 12,
   "metadata": {},
   "outputs": [
    {
     "data": {
      "text/html": [
       "<div>\n",
       "<style scoped>\n",
       "    .dataframe tbody tr th:only-of-type {\n",
       "        vertical-align: middle;\n",
       "    }\n",
       "\n",
       "    .dataframe tbody tr th {\n",
       "        vertical-align: top;\n",
       "    }\n",
       "\n",
       "    .dataframe thead th {\n",
       "        text-align: right;\n",
       "    }\n",
       "</style>\n",
       "<table border=\"1\" class=\"dataframe\">\n",
       "  <thead>\n",
       "    <tr style=\"text-align: right;\">\n",
       "      <th></th>\n",
       "      <th>Accuracy</th>\n",
       "    </tr>\n",
       "  </thead>\n",
       "  <tbody>\n",
       "    <tr>\n",
       "      <td>0.0</td>\n",
       "      <td>0.74784</td>\n",
       "    </tr>\n",
       "    <tr>\n",
       "      <td>0.1</td>\n",
       "      <td>0.85432</td>\n",
       "    </tr>\n",
       "    <tr>\n",
       "      <td>0.2</td>\n",
       "      <td>0.85744</td>\n",
       "    </tr>\n",
       "    <tr>\n",
       "      <td>0.3</td>\n",
       "      <td>0.85884</td>\n",
       "    </tr>\n",
       "    <tr>\n",
       "      <td>0.4</td>\n",
       "      <td>0.85856</td>\n",
       "    </tr>\n",
       "    <tr>\n",
       "      <td>0.5</td>\n",
       "      <td>0.85940</td>\n",
       "    </tr>\n",
       "    <tr>\n",
       "      <td>0.6</td>\n",
       "      <td>0.85960</td>\n",
       "    </tr>\n",
       "    <tr>\n",
       "      <td>0.7</td>\n",
       "      <td>0.85988</td>\n",
       "    </tr>\n",
       "    <tr>\n",
       "      <td>0.8</td>\n",
       "      <td>0.86004</td>\n",
       "    </tr>\n",
       "    <tr>\n",
       "      <td>0.9</td>\n",
       "      <td>0.85980</td>\n",
       "    </tr>\n",
       "    <tr>\n",
       "      <td>1.0</td>\n",
       "      <td>0.85968</td>\n",
       "    </tr>\n",
       "  </tbody>\n",
       "</table>\n",
       "</div>"
      ],
      "text/plain": [
       "     Accuracy\n",
       "0.0   0.74784\n",
       "0.1   0.85432\n",
       "0.2   0.85744\n",
       "0.3   0.85884\n",
       "0.4   0.85856\n",
       "0.5   0.85940\n",
       "0.6   0.85960\n",
       "0.7   0.85988\n",
       "0.8   0.86004\n",
       "0.9   0.85980\n",
       "1.0   0.85968"
      ]
     },
     "execution_count": 12,
     "metadata": {},
     "output_type": "execute_result"
    }
   ],
   "source": [
    "smoothing_accuracies"
   ]
  },
  {
   "cell_type": "code",
   "execution_count": 13,
   "metadata": {},
   "outputs": [
    {
     "data": {
      "text/plain": [
       "<matplotlib.axes._subplots.AxesSubplot at 0x16a1296cc88>"
      ]
     },
     "execution_count": 13,
     "metadata": {},
     "output_type": "execute_result"
    },
    {
     "data": {
      "image/png": "[encoded data removed]",
      "text/plain": [
       "<Figure size 432x288 with 1 Axes>"
      ]
     },
     "metadata": {
      "needs_background": "light"
     },
     "output_type": "display_data"
    }
   ],
   "source": [
    "smoothing_accuracies.plot()"
   ]
  },
  {
   "cell_type": "markdown",
   "metadata": {},
   "source": [
    "It's worth noting that increase the smoothing parameter from `0` even in the slightest increases accuracy considerably.\n",
    "<br>\n",
    "This is because a lot of the words were forcing the probability calculation to be `0`\n",
    "<br>\n",
    "rendering any other words in the same review useless."
   ]
  },
  {
   "cell_type": "code",
   "execution_count": 14,
   "metadata": {},
   "outputs": [],
   "source": [
    "h_params = {}\n",
    "for i in (x * 0.00025 for x in range(0, 11)):\n",
    "    h_params[i] = average_accuracy(models, dev_data, 0, i)\n",
    "min_occurrence_accuracies = pd.DataFrame.from_dict(h_params, orient='index', columns=['Accuracy'])"
   ]
  },
  {
   "cell_type": "code",
   "execution_count": 15,
   "metadata": {},
   "outputs": [
    {
     "data": {
      "text/html": [
       "<div>\n",
       "<style scoped>\n",
       "    .dataframe tbody tr th:only-of-type {\n",
       "        vertical-align: middle;\n",
       "    }\n",
       "\n",
       "    .dataframe tbody tr th {\n",
       "        vertical-align: top;\n",
       "    }\n",
       "\n",
       "    .dataframe thead th {\n",
       "        text-align: right;\n",
       "    }\n",
       "</style>\n",
       "<table border=\"1\" class=\"dataframe\">\n",
       "  <thead>\n",
       "    <tr style=\"text-align: right;\">\n",
       "      <th></th>\n",
       "      <th>Accuracy</th>\n",
       "    </tr>\n",
       "  </thead>\n",
       "  <tbody>\n",
       "    <tr>\n",
       "      <td>0.00000</td>\n",
       "      <td>0.74784</td>\n",
       "    </tr>\n",
       "    <tr>\n",
       "      <td>0.00025</td>\n",
       "      <td>0.83300</td>\n",
       "    </tr>\n",
       "    <tr>\n",
       "      <td>0.00050</td>\n",
       "      <td>0.85224</td>\n",
       "    </tr>\n",
       "    <tr>\n",
       "      <td>0.00075</td>\n",
       "      <td>0.85412</td>\n",
       "    </tr>\n",
       "    <tr>\n",
       "      <td>0.00100</td>\n",
       "      <td>0.85448</td>\n",
       "    </tr>\n",
       "    <tr>\n",
       "      <td>0.00125</td>\n",
       "      <td>0.85476</td>\n",
       "    </tr>\n",
       "    <tr>\n",
       "      <td>0.00150</td>\n",
       "      <td>0.85332</td>\n",
       "    </tr>\n",
       "    <tr>\n",
       "      <td>0.00175</td>\n",
       "      <td>0.85352</td>\n",
       "    </tr>\n",
       "    <tr>\n",
       "      <td>0.00200</td>\n",
       "      <td>0.85348</td>\n",
       "    </tr>\n",
       "    <tr>\n",
       "      <td>0.00225</td>\n",
       "      <td>0.85192</td>\n",
       "    </tr>\n",
       "    <tr>\n",
       "      <td>0.00250</td>\n",
       "      <td>0.85120</td>\n",
       "    </tr>\n",
       "  </tbody>\n",
       "</table>\n",
       "</div>"
      ],
      "text/plain": [
       "         Accuracy\n",
       "0.00000   0.74784\n",
       "0.00025   0.83300\n",
       "0.00050   0.85224\n",
       "0.00075   0.85412\n",
       "0.00100   0.85448\n",
       "0.00125   0.85476\n",
       "0.00150   0.85332\n",
       "0.00175   0.85352\n",
       "0.00200   0.85348\n",
       "0.00225   0.85192\n",
       "0.00250   0.85120"
      ]
     },
     "execution_count": 15,
     "metadata": {},
     "output_type": "execute_result"
    }
   ],
   "source": [
    "min_occurrence_accuracies"
   ]
  },
  {
   "cell_type": "code",
   "execution_count": 16,
   "metadata": {},
   "outputs": [
    {
     "data": {
      "text/plain": [
       "<matplotlib.axes._subplots.AxesSubplot at 0x16a12acd488>"
      ]
     },
     "execution_count": 16,
     "metadata": {},
     "output_type": "execute_result"
    },
    {
     "data": {
      "image/png": "[encoded data removed]",
      "text/plain": [
       "<Figure size 432x288 with 1 Axes>"
      ]
     },
     "metadata": {
      "needs_background": "light"
     },
     "output_type": "display_data"
    }
   ],
   "source": [
    "min_occurrence_accuracies.plot()"
   ]
  },
  {
   "cell_type": "markdown",
   "metadata": {},
   "source": [
    "The accuracy improves significantly if we ignore words that occur rarely, \n",
    "<br>\n",
    "specially those that occur $0$ times in either `Positive` or `Negative` class.\n",
    "<br>\n",
    "The above plot is for varying values of `min_occurences` with `smoothen=0`."
   ]
  },
  {
   "cell_type": "markdown",
   "metadata": {},
   "source": [
    "Redrawing the same plot with `smoothen=1`."
   ]
  },
  {
   "cell_type": "code",
   "execution_count": 17,
   "metadata": {},
   "outputs": [
    {
     "data": {
      "text/plain": [
       "<matplotlib.axes._subplots.AxesSubplot at 0x16a15b531c8>"
      ]
     },
     "execution_count": 17,
     "metadata": {},
     "output_type": "execute_result"
    },
    {
     "data": {
      "image/png": "[encoded data removed]",
      "text/plain": [
       "<Figure size 432x288 with 1 Axes>"
      ]
     },
     "metadata": {
      "needs_background": "light"
     },
     "output_type": "display_data"
    }
   ],
   "source": [
    "h_params = {}\n",
    "for i in (x * 0.00025 for x in range(0, 11)):\n",
    "    h_params[i] = average_accuracy(models, dev_data, 1, i)\n",
    "min_occurrence_accuracies = pd.DataFrame.from_dict(h_params, orient='index', columns=['Accuracy'])\n",
    "min_occurrence_accuracies.plot()"
   ]
  },
  {
   "cell_type": "markdown",
   "metadata": {},
   "source": [
    "The accuracy is now decereasing but the absolute change in accuracy is rather small in comparison to before.\n",
    "<br>\n",
    "Simply maximizing both the hyperparameters does not yield better results.\n",
    "<br>\n",
    "The ideal model is a balance between the 2 hyperparameters which is rather expensive to compute in this example."
   ]
  },
  {
   "cell_type": "markdown",
   "metadata": {},
   "source": [
    "For the final accuracy calculation, `smoothen=1` and `min_occurrence=0.00025` is used.\n",
    "<br>\n",
    "[train](aclImdb/train/labeledBow.feat) and [test](aclImdb/test/labeledBow.feat) reviews are combined and used in 5 fold cross-validation for the final models."
   ]
  },
  {
   "cell_type": "code",
   "execution_count": 18,
   "metadata": {},
   "outputs": [],
   "source": [
    "data_sets = list(Data.read_all('aclImdb', k))"
   ]
  },
  {
   "cell_type": "code",
   "execution_count": 19,
   "metadata": {},
   "outputs": [],
   "source": [
    "models = [Model(x.train, vocab) for x in data_sets]"
   ]
  },
  {
   "cell_type": "code",
   "execution_count": 20,
   "metadata": {},
   "outputs": [
    {
     "name": "stdout",
     "output_type": "stream",
     "text": [
      "Average accuracy = 85.7680%\n"
     ]
    }
   ],
   "source": [
    "test_data = [x.test for x in data_sets]\n",
    "accuracy = average_accuracy(models, test_data, smoothen=1, min_occurrence=0.00025)\n",
    "print(f'Average accuracy = {accuracy:.4%}')"
   ]
  },
  {
   "cell_type": "code",
   "execution_count": 21,
   "metadata": {},
   "outputs": [
    {
     "name": "stdout",
     "output_type": "stream",
     "text": [
      "Top 10 positive predicting words:\n",
      "['gundam', 'gunga', 'gypo', 'yokai', 'creasy', 'gackt', 'blandings', 'kells', 'gino', 'brashear']\n",
      "\n",
      "Top 10 negative predicting words:\n",
      "['sarne', 'gram', 'mraovich', 'domergue', 'toolbox', 'slaughterhouse', 'sade', 'hamiltons', 'triton', 'advani']\n"
     ]
    }
   ],
   "source": [
    "pos_words, neg_words = models[0].top_words(top_count=10, min_occurrence=0)\n",
    "print(f'Top 10 positive predicting words:\\n{pos_words}')\n",
    "print()\n",
    "print(f'Top 10 negative predicting words:\\n{neg_words}')"
   ]
  },
  {
   "cell_type": "markdown",
   "metadata": {},
   "source": [
    "The top words seem like typos or otherwise meaningless because \n",
    "<br>\n",
    "these words occured just once in their prediction class and never occured again."
   ]
  },
  {
   "cell_type": "code",
   "execution_count": 22,
   "metadata": {},
   "outputs": [
    {
     "name": "stdout",
     "output_type": "stream",
     "text": [
      "Top 10 positive predicting words:\n",
      "['wonderfully', 'beautifully', 'superb', 'outstanding', 'gem', 'finest', 'touching', 'excellent', 'magnificent', 'terrific']\n",
      "\n",
      "Top 10 negative predicting words:\n",
      "['waste', 'worst', 'laughable', 'awful', 'redeeming', 'poorly', 'pointless', 'sucks', 'lame', 'whatsoever']\n"
     ]
    }
   ],
   "source": [
    "pos_words, neg_words = models[0].top_words(top_count=10, min_occurrence=0.01)\n",
    "print(f'Top 10 positive predicting words:\\n{pos_words}')\n",
    "print()\n",
    "print(f'Top 10 negative predicting words:\\n{neg_words}')"
   ]
  },
  {
   "cell_type": "markdown",
   "metadata": {},
   "source": [
    "The top words now seem meaningful after filtering out words that occur too rarely (in less than $1\\%$ of the reviews)."
   ]
  }
 ],
 "metadata": {
  "kernelspec": {
   "display_name": "Python 3",
   "language": "python",
   "name": "python3"
  },
  "language_info": {
   "codemirror_mode": {
    "name": "ipython",
    "version": 3
   },
   "file_extension": ".py",
   "mimetype": "text/x-python",
   "name": "python",
   "nbconvert_exporter": "python",
   "pygments_lexer": "ipython3",
   "version": "3.7.4"
  },
  "latex_envs": {
   "LaTeX_envs_menu_present": true,
   "autoclose": true,
   "autocomplete": true,
   "bibliofile": "biblio.bib",
   "cite_by": "apalike",
   "current_citInitial": 1,
   "eqLabelWithNumbers": true,
   "eqNumInitial": 1,
   "hotkeys": {
    "equation": "Ctrl-E",
    "itemize": "Ctrl-I"
   },
   "labels_anchors": false,
   "latex_user_defs": false,
   "report_style_numbering": false,
   "user_envs_cfg": false
  }
 },
 "nbformat": 4,
 "nbformat_minor": 2
}
